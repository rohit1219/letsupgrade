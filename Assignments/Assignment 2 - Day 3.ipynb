{
 "cells": [
  {
   "cell_type": "code",
   "execution_count": 19,
   "metadata": {},
   "outputs": [
    {
     "name": "stdout",
     "output_type": "stream",
     "text": [
      "Enter Expected Score - 185\n",
      "Score is - \n",
      "155\n",
      "Close By, you are True Indian Fan\n"
     ]
    }
   ],
   "source": [
    "import random\n",
    "r = random.randint(1,250)\n",
    "p = r+10\n",
    "q = r-10\n",
    "\n",
    "x = int(input(\"Enter Expected Score - \"))\n",
    "print(\"Score is - \")\n",
    "print(r)\n",
    "\n",
    "if(x<1 or x>250):\n",
    "    print(\"Reduce Your Expectation For 20-20 Cricket\")\n",
    "elif(x<q or x>p):\n",
    "    print(\"Close By, you are True Indian Fan\")\n",
    "else:\n",
    "    print(\"you are Not true Indian Fan! :p \")"
   ]
  },
  {
   "cell_type": "code",
   "execution_count": null,
   "metadata": {},
   "outputs": [],
   "source": []
  },
  {
   "cell_type": "code",
   "execution_count": null,
   "metadata": {},
   "outputs": [],
   "source": []
  }
 ],
 "metadata": {
  "kernelspec": {
   "display_name": "Python 3",
   "language": "python",
   "name": "python3"
  },
  "language_info": {
   "codemirror_mode": {
    "name": "ipython",
    "version": 3
   },
   "file_extension": ".py",
   "mimetype": "text/x-python",
   "name": "python",
   "nbconvert_exporter": "python",
   "pygments_lexer": "ipython3",
   "version": "3.7.6"
  }
 },
 "nbformat": 4,
 "nbformat_minor": 4
}
