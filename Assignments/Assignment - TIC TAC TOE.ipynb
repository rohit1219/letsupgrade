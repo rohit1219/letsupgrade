{
 "cells": [
  {
   "cell_type": "code",
   "execution_count": 46,
   "metadata": {},
   "outputs": [
    {
     "name": "stdout",
     "output_type": "stream",
     "text": [
      " X | 0 | X \n",
      "-----------\n",
      " O | X | 0 \n",
      "-----------\n",
      " X | X | O \n"
     ]
    }
   ],
   "source": [
    "from IPython.display import clear_output\n",
    "\n",
    "def display_board(board):\n",
    "    clear_output()\n",
    "    print(' '+board[7]+' | '+board[8]+' | '+board[9]+' ')\n",
    "    print('-----------')\n",
    "    print(' '+board[4]+' | '+board[5]+' | '+board[6]+' ')\n",
    "    print('-----------')\n",
    "    print(' '+board[1]+' | '+board[2]+' | '+board[3]+' ')\n",
    "    \n",
    "board = ['#','X','X','O','O','X','0','X','0','X']\n",
    "    \n",
    "display_board(board)"
   ]
  },
  {
   "cell_type": "code",
   "execution_count": 48,
   "metadata": {},
   "outputs": [
    {
     "name": "stdout",
     "output_type": "stream",
     "text": [
      "Enter a Marker X/O for player one : x\n"
     ]
    },
    {
     "data": {
      "text/plain": [
       "('X', 'O')"
      ]
     },
     "execution_count": 48,
     "metadata": {},
     "output_type": "execute_result"
    }
   ],
   "source": [
    "def player_input():\n",
    "    marker = ''\n",
    "    \n",
    "    while not (marker == 'X' or marker == 'O'):\n",
    "        marker = input(\"Enter a Marker X/O for player one : \").upper()\n",
    "        \n",
    "    if marker == 'X':\n",
    "        return ('X','O')\n",
    "    else:\n",
    "        return ('O','X')\n",
    "\n",
    "player_input()"
   ]
  },
  {
   "cell_type": "code",
   "execution_count": 49,
   "metadata": {},
   "outputs": [],
   "source": [
    "def place_marker(board,marker,position):\n",
    "    board[position] = marker\n",
    "\n",
    "place_marker(board,'X',5)"
   ]
  },
  {
   "cell_type": "code",
   "execution_count": 50,
   "metadata": {},
   "outputs": [
    {
     "data": {
      "text/plain": [
       "True"
      ]
     },
     "execution_count": 50,
     "metadata": {},
     "output_type": "execute_result"
    }
   ],
   "source": [
    "def win_check(board,marker):\n",
    "    \n",
    "    if( (board[7]==marker and board[8]==marker and board[9]==marker) or\n",
    "          (board[4]==marker and board[5]==marker and board[6]==marker) or\n",
    "          (board[1]==marker and board[2]==marker and board[3]==marker) or\n",
    "          (board[7]==marker and board[1]==marker and board[4]==marker) or\n",
    "          (board[8]==marker and board[2]==marker and board[5]==marker) or\n",
    "          (board[9]==marker and board[6]==marker and board[3]==marker) or\n",
    "          (board[7]==marker and board[3]==marker and board[5]==marker) or\n",
    "          (board[9]==marker and board[1]==marker and board[5]==marker)):\n",
    "        return True\n",
    "    else:\n",
    "        return False\n",
    "    \n",
    "win_check(board,'X')"
   ]
  },
  {
   "cell_type": "code",
   "execution_count": 51,
   "metadata": {},
   "outputs": [
    {
     "data": {
      "text/plain": [
       "False"
      ]
     },
     "execution_count": 51,
     "metadata": {},
     "output_type": "execute_result"
    }
   ],
   "source": [
    "win_check(board,'O')"
   ]
  },
  {
   "cell_type": "code",
   "execution_count": 52,
   "metadata": {},
   "outputs": [
    {
     "data": {
      "text/plain": [
       "'Player 2'"
      ]
     },
     "execution_count": 52,
     "metadata": {},
     "output_type": "execute_result"
    }
   ],
   "source": [
    "import random\n",
    "\n",
    "def choose_first():\n",
    "    num = random.randint(0,1)\n",
    "    \n",
    "    if num == 1:\n",
    "        return 'Player 1'\n",
    "    else:\n",
    "        return 'Player 2'\n",
    "    \n",
    "choose_first()"
   ]
  },
  {
   "cell_type": "code",
   "execution_count": 53,
   "metadata": {},
   "outputs": [],
   "source": [
    "board = ['#','X',' ',' ','O',' ','X',' ','X','O']"
   ]
  },
  {
   "cell_type": "code",
   "execution_count": 57,
   "metadata": {},
   "outputs": [
    {
     "data": {
      "text/plain": [
       "True"
      ]
     },
     "execution_count": 57,
     "metadata": {},
     "output_type": "execute_result"
    }
   ],
   "source": [
    "def space_check(board,position):\n",
    "    return board[position] == ' '\n",
    "\n",
    "space_check(board,5)"
   ]
  },
  {
   "cell_type": "code",
   "execution_count": 59,
   "metadata": {},
   "outputs": [
    {
     "data": {
      "text/plain": [
       "True"
      ]
     },
     "execution_count": 59,
     "metadata": {},
     "output_type": "execute_result"
    }
   ],
   "source": [
    "def full_board_check(board):\n",
    "    for i in range(1,10):\n",
    "        if space_check(board,i):\n",
    "            return False\n",
    "        return True\n",
    "    \n",
    "full_board_check(board)"
   ]
  },
  {
   "cell_type": "code",
   "execution_count": 60,
   "metadata": {},
   "outputs": [],
   "source": [
    "def players_choice(board):\n",
    "    position = 0\n",
    "    \n",
    "    while not position in [1,2,3,4,5,6,7,8,9] or not space_check(board,position):\n",
    "        position = int(input(\"Enter your next position :\"))\n",
    "        \n",
    "    return position"
   ]
  },
  {
   "cell_type": "code",
   "execution_count": 61,
   "metadata": {},
   "outputs": [
    {
     "name": "stdout",
     "output_type": "stream",
     "text": [
      "Enter your next position :4\n",
      "Enter your next position :3\n"
     ]
    },
    {
     "data": {
      "text/plain": [
       "3"
      ]
     },
     "execution_count": 61,
     "metadata": {},
     "output_type": "execute_result"
    }
   ],
   "source": [
    "players_choice(board)"
   ]
  },
  {
   "cell_type": "code",
   "execution_count": 65,
   "metadata": {},
   "outputs": [
    {
     "name": "stdout",
     "output_type": "stream",
     "text": [
      "Do you want to play again (Y/N) :n\n"
     ]
    },
    {
     "data": {
      "text/plain": [
       "False"
      ]
     },
     "execution_count": 65,
     "metadata": {},
     "output_type": "execute_result"
    }
   ],
   "source": [
    "def replay():\n",
    "    return input(\"Do you want to play again (Y/N) :\").lower().startswith('y')\n",
    "\n",
    "replay()"
   ]
  },
  {
   "cell_type": "code",
   "execution_count": 68,
   "metadata": {},
   "outputs": [
    {
     "name": "stdout",
     "output_type": "stream",
     "text": [
      " X | X | X \n",
      "-----------\n",
      "   |   | O \n",
      "-----------\n",
      "   | O | O \n",
      "Player 1 won the game!! congrats\n",
      "Do you want to play again (Y/N) :n\n"
     ]
    }
   ],
   "source": [
    "while True:\n",
    "    board = [' ']* 10\n",
    "    \n",
    "    player1_marker, player2_marker = plater_input()\n",
    "    turn = choose_first()\n",
    "    \n",
    "    print(turn + \"Will play First\")\n",
    "    \n",
    "    play_game = input(\"Are You ready to play the game Y/N\").lower().startswith('y')\n",
    "    \n",
    "    if play_game:\n",
    "        game_on = True\n",
    "    else:\n",
    "        game_on = False\n",
    "        \n",
    "    while game_on:\n",
    "        if turn == 'Player 1':\n",
    "            display_board(board)\n",
    "            position = players_choice(board)\n",
    "            place_marker(board,player1_marker,position)\n",
    "            \n",
    "            if win_check(board,player1_marker):\n",
    "                display_board(board)\n",
    "                print(\"Player 1 won the game!! congrats\")\n",
    "                game_on = False\n",
    "        \n",
    "            else:\n",
    "                if full_board_check(board):\n",
    "                    display_board(board)\n",
    "                    print(\"The Game is Draw, Better Luck Next Time !!\")\n",
    "                    break\n",
    "                else:\n",
    "                    turn = \"Player 2\"\n",
    "        \n",
    "        else:\n",
    "            display_board(board)\n",
    "            position = players_choice(board)\n",
    "            place_marker(board,player2_marker,position)\n",
    "            \n",
    "            if win_check(board,player2_marker):\n",
    "                display_board(board)\n",
    "                print(\"Player 2 won the game!! congrats\")\n",
    "                game_on = False\n",
    "        \n",
    "            else:\n",
    "                if full_board_check(board):\n",
    "                    display_board(board)\n",
    "                    print(\"The Game is Draw, Better Luck Next Time !!\")\n",
    "                    break\n",
    "                else:\n",
    "                    turn = \"Player 1\"\n",
    "                    \n",
    "    if not replay():\n",
    "        break"
   ]
  },
  {
   "cell_type": "code",
   "execution_count": null,
   "metadata": {},
   "outputs": [],
   "source": []
  }
 ],
 "metadata": {
  "kernelspec": {
   "display_name": "Python 3",
   "language": "python",
   "name": "python3"
  },
  "language_info": {
   "codemirror_mode": {
    "name": "ipython",
    "version": 3
   },
   "file_extension": ".py",
   "mimetype": "text/x-python",
   "name": "python",
   "nbconvert_exporter": "python",
   "pygments_lexer": "ipython3",
   "version": "3.7.6"
  }
 },
 "nbformat": 4,
 "nbformat_minor": 4
}
