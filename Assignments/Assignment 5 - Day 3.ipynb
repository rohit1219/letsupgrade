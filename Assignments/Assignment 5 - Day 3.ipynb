{
 "cells": [
  {
   "cell_type": "code",
   "execution_count": 7,
   "metadata": {},
   "outputs": [
    {
     "name": "stdout",
     "output_type": "stream",
     "text": [
      "I Love FCS\n"
     ]
    }
   ],
   "source": [
    "f = open(\"myfile.txt\", \"x\") #create new file\n",
    "\n",
    "f = open(\"myfile.txt\", \"w\") #write or add content in file\n",
    "f.write(\"I Love FCS\")\n",
    "f.close()\n",
    "\n",
    "f = open(\"myfile.txt\", \"r\") #read file\n",
    "print(f.read())"
   ]
  },
  {
   "cell_type": "code",
   "execution_count": 8,
   "metadata": {},
   "outputs": [
    {
     "name": "stdout",
     "output_type": "stream",
     "text": [
      "I Love FCSThank you so much FCS team\n"
     ]
    }
   ],
   "source": [
    "f = open(\"myfile.txt\", \"a\") #will append to the end of the file\n",
    "f.write(\"Thank you so much FCS team\")\n",
    "f.close()\n",
    "\n",
    "f = open(\"myfile.txt\", \"r\") #read file\n",
    "print(f.read())"
   ]
  },
  {
   "cell_type": "code",
   "execution_count": null,
   "metadata": {},
   "outputs": [],
   "source": []
  }
 ],
 "metadata": {
  "kernelspec": {
   "display_name": "Python 3",
   "language": "python",
   "name": "python3"
  },
  "language_info": {
   "codemirror_mode": {
    "name": "ipython",
    "version": 3
   },
   "file_extension": ".py",
   "mimetype": "text/x-python",
   "name": "python",
   "nbconvert_exporter": "python",
   "pygments_lexer": "ipython3",
   "version": "3.7.6"
  }
 },
 "nbformat": 4,
 "nbformat_minor": 4
}
