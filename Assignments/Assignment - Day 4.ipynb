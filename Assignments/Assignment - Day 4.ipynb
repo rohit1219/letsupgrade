{
 "cells": [
  {
   "cell_type": "code",
   "execution_count": 16,
   "metadata": {},
   "outputs": [
    {
     "name": "stdout",
     "output_type": "stream",
     "text": [
      "It's a Match\n"
     ]
    }
   ],
   "source": [
    "def check(a):\n",
    "    sublist = [1,1,5]\n",
    "    for i in a:\n",
    "        for j in sublist:\n",
    "            if(len(sublist)>=0 and j == i):\n",
    "                sublist.pop(0)\n",
    "            else:\n",
    "                break\n",
    "    \n",
    "    if len(sublist) == 0:\n",
    "        print(\"It's a Match\")\n",
    "    else:\n",
    "        print(\"It's Gone\")\n",
    "        \n",
    "        \n",
    "x = [1,2,1,4,2,5]\n",
    "check(x)"
   ]
  },
  {
   "cell_type": "code",
   "execution_count": null,
   "metadata": {},
   "outputs": [],
   "source": []
  }
 ],
 "metadata": {
  "kernelspec": {
   "display_name": "Python 3",
   "language": "python",
   "name": "python3"
  },
  "language_info": {
   "codemirror_mode": {
    "name": "ipython",
    "version": 3
   },
   "file_extension": ".py",
   "mimetype": "text/x-python",
   "name": "python",
   "nbconvert_exporter": "python",
   "pygments_lexer": "ipython3",
   "version": "3.7.6"
  }
 },
 "nbformat": 4,
 "nbformat_minor": 4
}
