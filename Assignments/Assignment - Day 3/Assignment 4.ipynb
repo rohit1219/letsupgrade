{
 "cells": [
  {
   "cell_type": "code",
   "execution_count": null,
   "metadata": {},
   "outputs": [],
   "source": [
    "ankit_x = 0\n",
    "ankit_y = 0\n",
    "\n",
    "max_move = 0\n",
    "\n",
    "while(max_move <= 5):\n",
    "    max_move += 1\n",
    "    command = input(\"Enter the Command for ankit to move -\")\n",
    "    command = command.lower()\n",
    "    \n",
    "    if(command == \"l\"):\n",
    "        ankit_x += -1\n",
    "    elif (command == \"r\"):\n",
    "        ankit_x += +1\n",
    "    elif (command == \"u\"):\n",
    "        ankit_y += +1\n",
    "    elif (command == \"d\"):\n",
    "        ankit_x += -1\n",
    "    else:\n",
    "        print(\"Enter valid input, L,R,U,D\")\n",
    "    \n",
    "    print(\"ankit is here -\", ankit_x, ankit_y)"
   ]
  },
  {
   "cell_type": "code",
   "execution_count": null,
   "metadata": {},
   "outputs": [],
   "source": []
  }
 ],
 "metadata": {
  "kernelspec": {
   "display_name": "Python 3",
   "language": "python",
   "name": "python3"
  },
  "language_info": {
   "codemirror_mode": {
    "name": "ipython",
    "version": 3
   },
   "file_extension": ".py",
   "mimetype": "text/x-python",
   "name": "python",
   "nbconvert_exporter": "python",
   "pygments_lexer": "ipython3",
   "version": "3.7.6"
  }
 },
 "nbformat": 4,
 "nbformat_minor": 4
}
