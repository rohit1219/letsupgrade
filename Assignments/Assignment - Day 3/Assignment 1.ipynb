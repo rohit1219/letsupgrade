{
 "cells": [
  {
   "cell_type": "code",
   "execution_count": 17,
   "metadata": {},
   "outputs": [
    {
     "name": "stdout",
     "output_type": "stream",
     "text": [
      "Enter Marks For Grades - 40\n",
      "|---|\n",
      "| E |\n",
      "|---|\n"
     ]
    }
   ],
   "source": [
    "avg = int(input(\"Enter Marks For Grades - \"))\n",
    "if avg>=90:\n",
    "    print(\"|---|\")\n",
    "    print(\"| A |\")\n",
    "    print(\"|---|\")\n",
    "elif avg>=80 and avg<90:\n",
    "    print(\"|---|\")\n",
    "    print(\"| B |\")\n",
    "    print(\"|---|\")\n",
    "elif avg>=70 and avg<80:\n",
    "    print(\"|---|\")\n",
    "    print(\"| C |\")\n",
    "    print(\"|---|\")\n",
    "elif avg>=55 and avg<70:\n",
    "    print(\"|---|\")\n",
    "    print(\"| D |\")\n",
    "    print(\"|---|\")\n",
    "elif avg>=40 and avg<55:\n",
    "    print(\"|---|\")\n",
    "    print(\"| E |\")\n",
    "    print(\"|---|\")\n",
    "else:\n",
    "    print(\"Fail\")"
   ]
  },
  {
   "cell_type": "code",
   "execution_count": null,
   "metadata": {},
   "outputs": [],
   "source": []
  },
  {
   "cell_type": "code",
   "execution_count": null,
   "metadata": {},
   "outputs": [],
   "source": []
  }
 ],
 "metadata": {
  "kernelspec": {
   "display_name": "Python 3",
   "language": "python",
   "name": "python3"
  },
  "language_info": {
   "codemirror_mode": {
    "name": "ipython",
    "version": 3
   },
   "file_extension": ".py",
   "mimetype": "text/x-python",
   "name": "python",
   "nbconvert_exporter": "python",
   "pygments_lexer": "ipython3",
   "version": "3.7.6"
  }
 },
 "nbformat": 4,
 "nbformat_minor": 4
}
