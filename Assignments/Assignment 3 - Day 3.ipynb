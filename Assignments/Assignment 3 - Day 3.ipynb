{
 "cells": [
  {
   "cell_type": "code",
   "execution_count": 1,
   "metadata": {},
   "outputs": [
    {
     "name": "stdout",
     "output_type": "stream",
     "text": [
      "Length of photo - 8\n",
      "Number of photo - 4\n",
      "Width And Height of Photo6*6\n",
      "Upload Another Photo\n",
      "Width And Height of Photo7*8\n",
      "Upload Another Photo\n",
      "Width And Height of Photo8*8\n",
      "Photo Accepted\n",
      "Width And Height of Photo9*9\n",
      "Photo Accepted\n"
     ]
    }
   ],
   "source": [
    "l = int(input(\"Length of photo - \"))\n",
    "n = int(input(\"Number of photo - \"))\n",
    "\n",
    "i = 0\n",
    "while i<n:\n",
    "    size = (input(\"Width And Height of Photo\").split(\"*\"))\n",
    "    w = int(size[0])\n",
    "    h = int(size[1])\n",
    "    if w<l or h<l:\n",
    "        print(\"Upload Another Photo\")\n",
    "    elif w == h and (w >= l and h>= l):\n",
    "        print(\"Photo Accepted\")\n",
    "    else:\n",
    "        print(\"Crop It\")\n",
    "    i+=1"
   ]
  },
  {
   "cell_type": "code",
   "execution_count": null,
   "metadata": {},
   "outputs": [],
   "source": []
  }
 ],
 "metadata": {
  "kernelspec": {
   "display_name": "Python 3",
   "language": "python",
   "name": "python3"
  },
  "language_info": {
   "codemirror_mode": {
    "name": "ipython",
    "version": 3
   },
   "file_extension": ".py",
   "mimetype": "text/x-python",
   "name": "python",
   "nbconvert_exporter": "python",
   "pygments_lexer": "ipython3",
   "version": "3.7.6"
  }
 },
 "nbformat": 4,
 "nbformat_minor": 4
}
